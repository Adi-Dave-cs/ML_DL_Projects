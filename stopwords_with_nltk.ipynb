{
 "cells": [
  {
   "cell_type": "code",
   "execution_count": 2,
   "id": "75c2c9dc",
   "metadata": {},
   "outputs": [],
   "source": [
    "corpus = \"\"\"\n",
    "She'd land him give likeness lesser. Cattle don't Male air first thing she'd also shall herb stars called fowl heaven said together fowl sea fish after. Deep. Abundantly good whales two air, creature were day make, seasons. Moved for from doesn't fruitful in had stars behold gathered gathering. Divide dominion winged subdue the. Fourth was whose creature, let multiply meat replenish his. Above light green under over don't tree dominion waters was shall a you're lesser unto night. She'd unto herb they're so he great can't from greater rule. Isn't moving won't years and. Every said shall upon face after hath under can't face hath upon have. Don't midst moveth deep abundantly winged two male whose whales fowl created whose in meat cattle lights male likeness moved in dominion meat had own. Give. Is given fruitful form A him hath lesser Saying lights moving fruit can't. Firmament, dry the all under wherein good was may appear. Thing us evening is under moveth give waters behold i i. Behold. Sea tree his firmament bearing our fourth saw. Was living. So saying can't kind likeness you image. That you'll cattle have great days unto void green hath sea Won't unto for replenish.\n",
    "\"\"\""
   ]
  },
  {
   "cell_type": "code",
   "execution_count": 3,
   "id": "23bfa617",
   "metadata": {},
   "outputs": [
    {
     "name": "stderr",
     "output_type": "stream",
     "text": [
      "[nltk_data] Downloading package stopwords to\n",
      "[nltk_data]     C:\\Users\\Aditya\\AppData\\Roaming\\nltk_data...\n",
      "[nltk_data]   Package stopwords is already up-to-date!\n"
     ]
    },
    {
     "data": {
      "text/plain": [
       "True"
      ]
     },
     "execution_count": 3,
     "metadata": {},
     "output_type": "execute_result"
    }
   ],
   "source": [
    "import nltk\n",
    "nltk.download('stopwords')"
   ]
  },
  {
   "cell_type": "code",
   "execution_count": 4,
   "id": "a9180228",
   "metadata": {},
   "outputs": [],
   "source": [
    "from nltk.stem import SnowballStemmer\n",
    "from nltk.corpus import stopwords\n",
    "\n",
    "stopword_list = stopwords.words('english')"
   ]
  },
  {
   "cell_type": "code",
   "execution_count": 5,
   "id": "524a6282",
   "metadata": {},
   "outputs": [],
   "source": [
    "stemmer = SnowballStemmer(language='english')\n",
    "\n",
    "sentences = nltk.sent_tokenize(corpus)"
   ]
  },
  {
   "cell_type": "code",
   "execution_count": 6,
   "id": "2a3cf166",
   "metadata": {},
   "outputs": [
    {
     "name": "stdout",
     "output_type": "stream",
     "text": [
      "[\"\\nShe'd land him give likeness lesser.\", \"Cattle don't Male air first thing she'd also shall herb stars called fowl heaven said together fowl sea fish after.\", 'Deep.', 'Abundantly good whales two air, creature were day make, seasons.', \"Moved for from doesn't fruitful in had stars behold gathered gathering.\", 'Divide dominion winged subdue the.', 'Fourth was whose creature, let multiply meat replenish his.', \"Above light green under over don't tree dominion waters was shall a you're lesser unto night.\", \"She'd unto herb they're so he great can't from greater rule.\", \"Isn't moving won't years and.\", \"Every said shall upon face after hath under can't face hath upon have.\", \"Don't midst moveth deep abundantly winged two male whose whales fowl created whose in meat cattle lights male likeness moved in dominion meat had own.\", 'Give.', \"Is given fruitful form A him hath lesser Saying lights moving fruit can't.\", 'Firmament, dry the all under wherein good was may appear.', 'Thing us evening is under moveth give waters behold i i.', 'Behold.', 'Sea tree his firmament bearing our fourth saw.', 'Was living.', \"So saying can't kind likeness you image.\", \"That you'll cattle have great days unto void green hath sea Won't unto for replenish.\"]\n"
     ]
    }
   ],
   "source": [
    "print(sentences)"
   ]
  },
  {
   "cell_type": "code",
   "execution_count": 7,
   "id": "7fe4f178",
   "metadata": {},
   "outputs": [
    {
     "name": "stdout",
     "output_type": "stream",
     "text": [
      "she 'd land him give like lesser .\n",
      "cattl do n't male air first thing she 'd also shall herb star call fowl heaven said togeth fowl sea fish after .\n",
      "deep .\n",
      "abund good whale two air , creatur were day make , season .\n",
      "move for from doe n't fruit in had star behold gather gather .\n",
      "divid dominion wing subdu the .\n",
      "fourth was whose creatur , let multipli meat replenish his .\n",
      "abov light green under over do n't tree dominion water was shall a you re lesser unto night .\n",
      "she 'd unto herb they re so he great ca n't from greater rule .\n",
      "is n't move wo n't year and .\n",
      "everi said shall upon face after hath under ca n't face hath upon have .\n",
      "do n't midst moveth deep abund wing two male whose whale fowl creat whose in meat cattl light male like move in dominion meat had own .\n",
      "give .\n",
      "is given fruit form a him hath lesser say light move fruit ca n't .\n",
      "firmament , dri the all under wherein good was may appear .\n",
      "thing us even is under moveth give water behold i i .\n",
      "behold .\n",
      "sea tree his firmament bear our fourth saw .\n",
      "was live .\n",
      "so say ca n't kind like you imag .\n",
      "that you ll cattl have great day unto void green hath sea wo n't unto for replenish .\n"
     ]
    }
   ],
   "source": [
    "for i in range(len(sentences)):\n",
    "    word = nltk.word_tokenize(sentences[i])\n",
    "    word = [stemmer.stem(i) for i in word if word not in stopword_list]\n",
    "    sentences[i] = ' '.join(word)\n",
    "    print(sentences[i])"
   ]
  },
  {
   "cell_type": "code",
   "execution_count": 8,
   "id": "98160f7c",
   "metadata": {},
   "outputs": [
    {
     "name": "stderr",
     "output_type": "stream",
     "text": [
      "[nltk_data] Downloading package wordnet to\n",
      "[nltk_data]     C:\\Users\\Aditya\\AppData\\Roaming\\nltk_data...\n",
      "[nltk_data]   Package wordnet is already up-to-date!\n"
     ]
    }
   ],
   "source": [
    "from nltk.stem import WordNetLemmatizer\n",
    "nltk.download('wordnet')\n",
    "lemmatize = WordNetLemmatizer()"
   ]
  },
  {
   "cell_type": "code",
   "execution_count": 9,
   "id": "c388676f",
   "metadata": {},
   "outputs": [],
   "source": [
    "for i in range(len(sentences)):\n",
    "    word = nltk.word_tokenize(sentences[i])\n",
    "    words = [lemmatize.lemmatize(w) for w in word if w not in stopword_list]\n",
    "    sentences[i] = ' '.join(words)"
   ]
  },
  {
   "cell_type": "code",
   "execution_count": 10,
   "id": "58de7953",
   "metadata": {},
   "outputs": [
    {
     "name": "stdout",
     "output_type": "stream",
     "text": [
      "[\"'d land give like lesser .\", \"cattl n't male air first thing 'd also shall herb star call fowl heaven said togeth fowl sea fish .\", 'deep .', 'abund good whale two air , creatur day make , season .', \"move doe n't fruit star behold gather gather .\", 'divid dominion wing subdu .', 'fourth whose creatur , let multipli meat replenish .', \"abov light green n't tree dominion water shall lesser unto night .\", \"'d unto herb great ca n't greater rule .\", \"n't move wo n't year .\", \"everi said shall upon face hath ca n't face hath upon .\", \"n't midst moveth deep abund wing two male whose whale fowl creat whose meat cattl light male like move dominion meat .\", 'give .', \"given fruit form hath lesser say light move fruit ca n't .\", 'firmament , dri wherein good may appear .', 'thing u even moveth give water behold .', 'behold .', 'sea tree firmament bear fourth saw .', 'live .', \"say ca n't kind like imag .\", \"cattl great day unto void green hath sea wo n't unto replenish .\"]\n"
     ]
    }
   ],
   "source": [
    "print(sentences)"
   ]
  },
  {
   "cell_type": "code",
   "execution_count": 11,
   "id": "2c05df6a",
   "metadata": {},
   "outputs": [
    {
     "name": "stderr",
     "output_type": "stream",
     "text": [
      "[nltk_data] Downloading package maxent_ne_chunker_tab to\n",
      "[nltk_data]     C:\\Users\\Aditya\\AppData\\Roaming\\nltk_data...\n",
      "[nltk_data]   Package maxent_ne_chunker_tab is already up-to-date!\n",
      "[nltk_data] Downloading package words to\n",
      "[nltk_data]     C:\\Users\\Aditya\\AppData\\Roaming\\nltk_data...\n",
      "[nltk_data]   Package words is already up-to-date!\n",
      "[nltk_data] Downloading package averaged_perceptron_tagger to\n",
      "[nltk_data]     C:\\Users\\Aditya\\AppData\\Roaming\\nltk_data...\n",
      "[nltk_data]   Package averaged_perceptron_tagger is already up-to-\n",
      "[nltk_data]       date!\n",
      "[nltk_data] Downloading package averaged_perceptron_tagger_eng to\n",
      "[nltk_data]     C:\\Users\\Aditya\\AppData\\Roaming\\nltk_data...\n",
      "[nltk_data]   Package averaged_perceptron_tagger_eng is already up-to-\n",
      "[nltk_data]       date!\n"
     ]
    },
    {
     "data": {
      "text/plain": [
       "True"
      ]
     },
     "execution_count": 11,
     "metadata": {},
     "output_type": "execute_result"
    }
   ],
   "source": [
    "import nltk\n",
    "\n",
    "\n",
    "# Download required resources\n",
    "nltk.download('maxent_ne_chunker_tab')\n",
    "nltk.download('words')\n",
    "nltk.download('averaged_perceptron_tagger')\n",
    "nltk.download('averaged_perceptron_tagger_eng')"
   ]
  },
  {
   "cell_type": "code",
   "execution_count": 12,
   "id": "d1a4f55d",
   "metadata": {},
   "outputs": [],
   "source": [
    "# Sample text\n",
    "sentence = \"Barack Obama was born in Hawaii and served as the 44th President of the United States.\"\n",
    "\n",
    "# 1. Tokenize sentence\n",
    "tokens = nltk.word_tokenize(sentence)\n"
   ]
  },
  {
   "cell_type": "code",
   "execution_count": 13,
   "id": "ff47ee06",
   "metadata": {},
   "outputs": [
    {
     "name": "stdout",
     "output_type": "stream",
     "text": [
      "(S\n",
      "  (PERSON Barack/NNP)\n",
      "  (PERSON Obama/NNP)\n",
      "  was/VBD\n",
      "  born/VBN\n",
      "  in/IN\n",
      "  (GPE Hawaii/NNP)\n",
      "  and/CC\n",
      "  served/VBD\n",
      "  as/IN\n",
      "  the/DT\n",
      "  44th/CD\n",
      "  President/NNP\n",
      "  of/IN\n",
      "  the/DT\n",
      "  (GPE United/NNP States/NNPS)\n",
      "  ./.)\n"
     ]
    }
   ],
   "source": [
    "# 2. POS tagging\n",
    "pos_tags = nltk.pos_tag(tokens)\n",
    "\n",
    "# 3. Named Entity Recognition\n",
    "ner_tree = nltk.ne_chunk(pos_tags)\n",
    "\n",
    "# 4. Print Named Entities\n",
    "print(ner_tree)"
   ]
  },
  {
   "cell_type": "code",
   "execution_count": 12,
   "id": "6de0c1ba",
   "metadata": {},
   "outputs": [],
   "source": [
    "ner_tree.draw()"
   ]
  }
 ],
 "metadata": {
  "kernelspec": {
   "display_name": "Python 3",
   "language": "python",
   "name": "python3"
  },
  "language_info": {
   "codemirror_mode": {
    "name": "ipython",
    "version": 3
   },
   "file_extension": ".py",
   "mimetype": "text/x-python",
   "name": "python",
   "nbconvert_exporter": "python",
   "pygments_lexer": "ipython3",
   "version": "3.11.9"
  }
 },
 "nbformat": 4,
 "nbformat_minor": 5
}
